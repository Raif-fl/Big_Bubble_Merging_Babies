{
 "cells": [
  {
   "cell_type": "markdown",
   "id": "44a0592a-73d2-4e0a-9522-84f0144c0e04",
   "metadata": {},
   "source": [
    "## Brujin graphs from repeat_spectra"
   ]
  },
  {
   "cell_type": "markdown",
   "id": "66a04809-2043-4fcc-acc1-09eeadc247b5",
   "metadata": {},
   "source": [
    "### Helper code:"
   ]
  },
  {
   "cell_type": "code",
   "execution_count": 3,
   "id": "d6b9289c-2a9f-49ac-8ad6-576123d22870",
   "metadata": {},
   "outputs": [],
   "source": [
    "def suffix(string):\n",
    "    return string[1:]\n",
    "def prefix(string):\n",
    "    return string[0:len(string)-1]"
   ]
  },
  {
   "cell_type": "markdown",
   "id": "6c82df31-acb5-48bc-b3eb-0a52e8b70d30",
   "metadata": {},
   "source": [
    "### The code:"
   ]
  },
  {
   "cell_type": "code",
   "execution_count": 4,
   "id": "c38882e4-7d10-47f3-816f-027f109c6b17",
   "metadata": {},
   "outputs": [],
   "source": [
    "def de_bruijn_kmers(k_mers):\n",
    "    # Get the prefixes and suffixes. \n",
    "    prefixes = []\n",
    "    suffixes = []\n",
    "    for i in k_mers:\n",
    "        for j in range(k_mers[i]):\n",
    "            prefixes.append(prefix(i))\n",
    "            suffixes.append(suffix(i))\n",
    "    \n",
    "    # Build up the Debrujin\n",
    "    brujin = {}\n",
    "    for i, pref in enumerate(prefixes):\n",
    "        if pref in list(brujin.keys()):\n",
    "            brujin[pref].append(suffixes[i])\n",
    "        else:\n",
    "            brujin.update({pref:[suffixes[i]]})\n",
    "\n",
    "    return(brujin)"
   ]
  },
  {
   "cell_type": "markdown",
   "id": "1e49d76f-6e65-4be5-91c4-5cee5094250c",
   "metadata": {},
   "source": [
    "### Running the code:"
   ]
  },
  {
   "cell_type": "code",
   "execution_count": 9,
   "id": "f834293d-70d2-42f1-b7c6-3fedd50fbec5",
   "metadata": {},
   "outputs": [],
   "source": [
    "input = {\"GAGG\":1,\n",
    "         \"CAGG\":2, \n",
    "         \"GGGG\":1,\n",
    "         \"GGGA\":1, \n",
    "         \"AGGG\":1,\n",
    "         \"GGAG\":1}"
   ]
  },
  {
   "cell_type": "code",
   "execution_count": 10,
   "id": "62c504f2-5901-439a-b2c6-602ca011cdde",
   "metadata": {},
   "outputs": [
    {
     "data": {
      "text/plain": [
       "{'GAG': ['AGG'],\n",
       " 'CAG': ['AGG', 'AGG'],\n",
       " 'GGG': ['GGG', 'GGA'],\n",
       " 'AGG': ['GGG'],\n",
       " 'GGA': ['GAG']}"
      ]
     },
     "execution_count": 10,
     "metadata": {},
     "output_type": "execute_result"
    }
   ],
   "source": [
    "de_bruijn_kmers(input)"
   ]
  }
 ],
 "metadata": {
  "kernelspec": {
   "display_name": "Python 3 (ipykernel)",
   "language": "python",
   "name": "python3"
  },
  "language_info": {
   "codemirror_mode": {
    "name": "ipython",
    "version": 3
   },
   "file_extension": ".py",
   "mimetype": "text/x-python",
   "name": "python",
   "nbconvert_exporter": "python",
   "pygments_lexer": "ipython3",
   "version": "3.12.2"
  }
 },
 "nbformat": 4,
 "nbformat_minor": 5
}
