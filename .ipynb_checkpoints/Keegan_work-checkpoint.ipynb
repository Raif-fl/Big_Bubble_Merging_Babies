{
 "cells": [
  {
   "cell_type": "code",
   "execution_count": 1,
   "id": "ffb360dd-039e-4cf2-a3eb-7b6d4a6b54a9",
   "metadata": {},
   "outputs": [],
   "source": [
    "from IPython.display import Image\n",
    "import networkx as nx"
   ]
  },
  {
   "cell_type": "markdown",
   "id": "44a0592a-73d2-4e0a-9522-84f0144c0e04",
   "metadata": {
    "jp-MarkdownHeadingCollapsed": true
   },
   "source": [
    "## Brujin graphs from repeat_spectra"
   ]
  },
  {
   "cell_type": "markdown",
   "id": "66a04809-2043-4fcc-acc1-09eeadc247b5",
   "metadata": {},
   "source": [
    "### Helper code:"
   ]
  },
  {
   "cell_type": "code",
   "execution_count": 2,
   "id": "d6b9289c-2a9f-49ac-8ad6-576123d22870",
   "metadata": {},
   "outputs": [],
   "source": [
    "def suffix(string):\n",
    "    return string[1:]\n",
    "def prefix(string):\n",
    "    return string[0:len(string)-1]"
   ]
  },
  {
   "cell_type": "markdown",
   "id": "6c82df31-acb5-48bc-b3eb-0a52e8b70d30",
   "metadata": {},
   "source": [
    "### The code:"
   ]
  },
  {
   "cell_type": "code",
   "execution_count": 3,
   "id": "c38882e4-7d10-47f3-816f-027f109c6b17",
   "metadata": {},
   "outputs": [],
   "source": [
    "def de_bruijn_kmers(k_mers):\n",
    "    # Get the prefixes and suffixes. \n",
    "    prefixes = []\n",
    "    suffixes = []\n",
    "    for i in k_mers:\n",
    "        prefixes.append(prefix(i))\n",
    "        suffixes.append((suffix(i), k_mers[i]))\n",
    "    \n",
    "    # Build up the Debrujin\n",
    "    brujin = {}\n",
    "    for i, pref in enumerate(prefixes):\n",
    "        if pref in list(brujin.keys()):\n",
    "            brujin[pref].append(suffixes[i])\n",
    "        else:\n",
    "            brujin.update({pref:[suffixes[i]]})\n",
    "\n",
    "    return(brujin)"
   ]
  },
  {
   "cell_type": "markdown",
   "id": "1e49d76f-6e65-4be5-91c4-5cee5094250c",
   "metadata": {},
   "source": [
    "### Running the code:"
   ]
  },
  {
   "cell_type": "code",
   "execution_count": 4,
   "id": "f834293d-70d2-42f1-b7c6-3fedd50fbec5",
   "metadata": {},
   "outputs": [],
   "source": [
    "input = {\"GAGG\":1,\n",
    "         \"CAGG\":2, \n",
    "         \"GGGG\":1,\n",
    "         \"GGGA\":1, \n",
    "         \"AGGG\":1,\n",
    "         \"GGAG\":1}"
   ]
  },
  {
   "cell_type": "code",
   "execution_count": 5,
   "id": "62c504f2-5901-439a-b2c6-602ca011cdde",
   "metadata": {},
   "outputs": [
    {
     "data": {
      "text/plain": [
       "{'GAG': [('AGG', 1)],\n",
       " 'CAG': [('AGG', 2)],\n",
       " 'GGG': [('GGG', 1), ('GGA', 1)],\n",
       " 'AGG': [('GGG', 1)],\n",
       " 'GGA': [('GAG', 1)]}"
      ]
     },
     "execution_count": 5,
     "metadata": {},
     "output_type": "execute_result"
    }
   ],
   "source": [
    "de_bruijn_kmers(input)"
   ]
  },
  {
   "cell_type": "markdown",
   "id": "b36cb880-b43c-4556-8a00-44e35e8a66ca",
   "metadata": {
    "jp-MarkdownHeadingCollapsed": true
   },
   "source": [
    "## String to multiset"
   ]
  },
  {
   "cell_type": "code",
   "execution_count": 6,
   "id": "2a230c74-4f4b-487f-8483-61271facbace",
   "metadata": {},
   "outputs": [],
   "source": [
    "string_1 = \"ATCGT\"\n",
    "string_2 = \"ATAGT\""
   ]
  },
  {
   "cell_type": "code",
   "execution_count": 7,
   "id": "c4658d7d-ac9c-4a5a-9be3-76fb69f58833",
   "metadata": {},
   "outputs": [],
   "source": [
    "def to_kmers(string, k):\n",
    "    k_mers = {}\n",
    "    for i in range(0, len(string) -k + 1):\n",
    "        window = string[i:i+k]\n",
    "        if window in k_mers.keys():\n",
    "            k_mers[window] += 1\n",
    "        else:\n",
    "            k_mers[window] = 1\n",
    "    return k_mers"
   ]
  },
  {
   "cell_type": "code",
   "execution_count": 8,
   "id": "a776fb6f-9663-4f57-a291-912a22bf8d1c",
   "metadata": {},
   "outputs": [
    {
     "data": {
      "text/plain": [
       "{'ATC': 1, 'TCG': 1, 'CGT': 1}"
      ]
     },
     "execution_count": 8,
     "metadata": {},
     "output_type": "execute_result"
    }
   ],
   "source": [
    "to_kmers(string_1, 3)"
   ]
  },
  {
   "cell_type": "markdown",
   "id": "9b7af1e3-9eeb-4575-b8ed-d6766e2abd52",
   "metadata": {
    "jp-MarkdownHeadingCollapsed": true
   },
   "source": [
    "## Union graph"
   ]
  },
  {
   "cell_type": "markdown",
   "id": "dd0276f1-5378-4643-850b-8d8c15822fde",
   "metadata": {},
   "source": [
    "### Examples"
   ]
  },
  {
   "cell_type": "code",
   "execution_count": 9,
   "id": "5574634d-31ee-41e6-9fb9-01c97aa11fa4",
   "metadata": {},
   "outputs": [],
   "source": [
    "### Bubble:\n",
    "string_1 = \"ACGTACAT\"\n",
    "string_2 = \"ACGTAGAT\"\n",
    "\n",
    "### Looper:\n",
    "# string_1 = \"AAAAA\"\n",
    "# string_2 = \"AACAA\"\n",
    "\n",
    "### Split:\n",
    "# string_1 = \"ACGTACAT\"\n",
    "# string_2 = \"ACGTACAG\"\n",
    "\n",
    "### Two snps right next to each other (big bubble). \n",
    "# string_1 = \"ACGTACAT\"\n",
    "# string_2 = \"ACGGCCAT\"\n",
    "\n",
    "###!!!### Some weird looking stuff. \n",
    "# string_1 = \"ACGTACAT\"\n",
    "# string_2 = \"ACGGAGAT\"\n",
    "\n",
    "# string_1 = \"ACGTACATACA\"\n",
    "# string_2 = \"ACGTAGATACA\"\n",
    "\n",
    "# string_1 = \"ACGTAGATGCA\"\n",
    "# string_2 = \"ACGCAGATACA\"\n"
   ]
  },
  {
   "cell_type": "code",
   "execution_count": 10,
   "id": "51cc3af8-6897-45ce-a207-4f76f77451a2",
   "metadata": {},
   "outputs": [],
   "source": [
    "# Creating the initial De-Bruijn Graph\n",
    "repeat_1 = to_kmers(string_1, 3)\n",
    "repeat_2 = to_kmers(string_2, 3)\n",
    "db1 = de_bruijn_kmers(repeat_1)\n",
    "db2 = de_bruijn_kmers(repeat_2)"
   ]
  },
  {
   "cell_type": "code",
   "execution_count": 11,
   "id": "5d191ef2-df04-4994-8d39-e94b46fbfabd",
   "metadata": {},
   "outputs": [],
   "source": [
    "# This is currently very rough, but it works. \n",
    "union = {}\n",
    "for i in db1:\n",
    "    try:\n",
    "        y = union[i]\n",
    "    except:\n",
    "        union[i] = []\n",
    "    try:\n",
    "        x = db2[i]\n",
    "        for j in db1[i]:\n",
    "            if j not in x:\n",
    "                union[i].append((j))\n",
    "    except:\n",
    "        union[i] = []\n",
    "        for j in db1[i]:\n",
    "            union[i].append((j))\n",
    "            \n",
    "for i in db2:\n",
    "    try:\n",
    "        y = union[i]\n",
    "    except:\n",
    "        union[i] = []\n",
    "    try:\n",
    "        x = db1[i]\n",
    "        for j in db2[i]:\n",
    "            if j not in x:\n",
    "                union[i].append((j[0],-1*j[1]))\n",
    "    except:\n",
    "        union[i] = []\n",
    "        for j in db2[i]:\n",
    "            union[i].append((j[0],-1*j[1]))\n",
    "\n",
    "# Remove nodes that go nowhere from the Trie:\n",
    "union= {key:value for key,value in union.items() if value}"
   ]
  },
  {
   "cell_type": "code",
   "execution_count": 12,
   "id": "c7cd74d5-2492-4a46-82ba-575709f8e23b",
   "metadata": {},
   "outputs": [
    {
     "name": "stdout",
     "output_type": "stream",
     "text": [
      "{'AC': [('CG', 1), ('CA', 1)], 'CG': [('GT', 1)], 'GT': [('TA', 1)], 'TA': [('AC', 1)], 'CA': [('AT', 1)]}\n",
      "{'AC': [('CG', 1)], 'CG': [('GT', 1)], 'GT': [('TA', 1)], 'TA': [('AG', 1)], 'AG': [('GA', 1)], 'GA': [('AT', 1)]}\n",
      "{'AC': [('CA', 1)], 'TA': [('AC', 1), ('AG', -1)], 'CA': [('AT', 1)], 'AG': [('GA', -1)], 'GA': [('AT', -1)]}\n"
     ]
    }
   ],
   "source": [
    "print(db1)\n",
    "print(db2)\n",
    "print(union)"
   ]
  },
  {
   "cell_type": "markdown",
   "id": "4908b3ab-16a5-43a5-aef4-0477027a6c18",
   "metadata": {
    "jp-MarkdownHeadingCollapsed": true
   },
   "source": [
    "## Visualization"
   ]
  },
  {
   "cell_type": "code",
   "execution_count": 13,
   "id": "acdaeb8e-bca3-4451-997e-686973d48267",
   "metadata": {},
   "outputs": [
    {
     "data": {
      "text/plain": [
       "[0, 0, 0, 0, 0, 0]"
      ]
     },
     "execution_count": 13,
     "metadata": {},
     "output_type": "execute_result"
    }
   ],
   "source": [
    "G = nx.MultiGraph()\n",
    "edge_list = []\n",
    "for i in union:\n",
    "    for j in union[i]:\n",
    "        edge_list.append((i, j[0], {'label':j[1]}))\n",
    "\n",
    "G.add_edges_from(edge_list)"
   ]
  },
  {
   "cell_type": "code",
   "execution_count": 14,
   "id": "21695131-b34f-4a5b-8026-66eb1eb91049",
   "metadata": {},
   "outputs": [],
   "source": [
    "D = nx.drawing.nx_agraph.to_agraph(G)"
   ]
  },
  {
   "cell_type": "code",
   "execution_count": 15,
   "id": "02bbac04-2185-4522-abcd-b2e9cc36d35c",
   "metadata": {},
   "outputs": [],
   "source": [
    "D.node_attr.update(color='blue', style='filled', fillcolor='white')\n",
    "D.edge_attr.update(color='blue', arrowsize=1)\n",
    "pos = D.layout('dot')\n",
    "D.draw(\"union_graph.jpg\")"
   ]
  },
  {
   "cell_type": "code",
   "execution_count": 16,
   "id": "a4430db9-b660-4133-839f-65478623b405",
   "metadata": {},
   "outputs": [
    {
     "data": {
      "image/jpeg": "[encoded data removed]",
      "text/plain": [
       "<IPython.core.display.Image object>"
      ]
     },
     "execution_count": 16,
     "metadata": {},
     "output_type": "execute_result"
    }
   ],
   "source": [
    "Image(filename='union_graph.jpg') "
   ]
  },
  {
   "cell_type": "code",
   "execution_count": null,
   "id": "8d1ea78c-061a-4db3-8cba-d515c890a2d8",
   "metadata": {},
   "outputs": [],
   "source": []
  }
 ],
 "metadata": {
  "kernelspec": {
   "display_name": "Python 3 (ipykernel)",
   "language": "python",
   "name": "python3"
  },
  "language_info": {
   "codemirror_mode": {
    "name": "ipython",
    "version": 3
   },
   "file_extension": ".py",
   "mimetype": "text/x-python",
   "name": "python",
   "nbconvert_exporter": "python",
   "pygments_lexer": "ipython3",
   "version": "3.12.2"
  }
 },
 "nbformat": 4,
 "nbformat_minor": 5
}
