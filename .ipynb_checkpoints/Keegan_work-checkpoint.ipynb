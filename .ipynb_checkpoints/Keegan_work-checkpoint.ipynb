{
 "cells": [
  {
   "cell_type": "code",
   "execution_count": 1,
   "id": "ffb360dd-039e-4cf2-a3eb-7b6d4a6b54a9",
   "metadata": {},
   "outputs": [],
   "source": [
    "from IPython.display import Image\n",
    "import networkx as nx\n",
    "from typing import List, Dict, Iterable, Tuple\n",
    "import copy"
   ]
  },
  {
   "cell_type": "markdown",
   "id": "44a0592a-73d2-4e0a-9522-84f0144c0e04",
   "metadata": {
    "jp-MarkdownHeadingCollapsed": true
   },
   "source": [
    "## Brujin graphs from repeat_spectra"
   ]
  },
  {
   "cell_type": "code",
   "execution_count": 2,
   "id": "d6b9289c-2a9f-49ac-8ad6-576123d22870",
   "metadata": {},
   "outputs": [],
   "source": [
    "def suffix(string):\n",
    "    return string[1:]\n",
    "def prefix(string):\n",
    "    return string[0:len(string)-1]"
   ]
  },
  {
   "cell_type": "code",
   "execution_count": 3,
   "id": "c38882e4-7d10-47f3-816f-027f109c6b17",
   "metadata": {},
   "outputs": [],
   "source": [
    "def de_bruijn_kmers(k_mers):\n",
    "    # Get the prefixes and suffixes. \n",
    "    prefixes = []\n",
    "    suffixes = []\n",
    "    for i in k_mers:\n",
    "        prefixes.append(prefix(i))\n",
    "        suffixes.append((suffix(i), k_mers[i]))\n",
    "    \n",
    "    # Build up the Debrujin\n",
    "    brujin = {}\n",
    "    for i, pref in enumerate(prefixes):\n",
    "        if pref in list(brujin.keys()):\n",
    "            brujin[pref].append(suffixes[i])\n",
    "        else:\n",
    "            brujin.update({pref:[suffixes[i]]})\n",
    "\n",
    "    return(brujin)"
   ]
  },
  {
   "cell_type": "markdown",
   "id": "b36cb880-b43c-4556-8a00-44e35e8a66ca",
   "metadata": {
    "jp-MarkdownHeadingCollapsed": true
   },
   "source": [
    "## String to multiset"
   ]
  },
  {
   "cell_type": "code",
   "execution_count": 7,
   "id": "c4658d7d-ac9c-4a5a-9be3-76fb69f58833",
   "metadata": {},
   "outputs": [],
   "source": [
    "def to_kmers(string, k):\n",
    "    k_mers = {}\n",
    "    for i in range(0, len(string) -k + 1):\n",
    "        window = string[i:i+k]\n",
    "        if window in k_mers.keys():\n",
    "            k_mers[window] += 1\n",
    "        else:\n",
    "            k_mers[window] = 1\n",
    "    return k_mers"
   ]
  },
  {
   "cell_type": "markdown",
   "id": "9b7af1e3-9eeb-4575-b8ed-d6766e2abd52",
   "metadata": {
    "jp-MarkdownHeadingCollapsed": true
   },
   "source": [
    "## Union graph"
   ]
  },
  {
   "cell_type": "code",
   "execution_count": 169,
   "id": "5574634d-31ee-41e6-9fb9-01c97aa11fa4",
   "metadata": {},
   "outputs": [],
   "source": [
    "### Bubble:\n",
    "# string_1 = \"ACGTACAT\"\n",
    "# string_2 = \"ACGTAGAT\"\n",
    "\n",
    "### Looper:\n",
    "#string_1 = \"AAAAA\"\n",
    "#string_2 = \"AACAA\"\n",
    "\n",
    "### Split:\n",
    "# string_1 = \"ACGTACAT\"\n",
    "# string_2 = \"ACGTACAG\"\n",
    "\n",
    "### Two snps right next to each other (big bubble). \n",
    "# string_1 = \"ACGTACAT\"\n",
    "# string_2 = \"ACGGCCAT\"\n",
    "\n",
    "###!!!### Some weird looking stuff with two snps. \n",
    "# string_1 = \"ACGTACAT\"\n",
    "# string_2 = \"ACGGAGAT\"\n",
    "\n",
    "### This has a repeated section in it TACATACA and 1 snp. \n",
    "# string_1 = \"ACGTACATACA\"\n",
    "# string_2 = \"ACGTAGATACA\"\n",
    "\n",
    "###!!!### The palindromic example\n",
    "# string_1 = \"ACGTAGATGCA\"\n",
    "# string_2 = \"ACGCAGATACA\"\n",
    "\n",
    "### Highly disconnected graph. \n",
    "# string_1 = \"AAAAC\"\n",
    "# string_2 = \"AACAC\"\n",
    "\n",
    "# string_1 = \"AAAAG\"\n",
    "# string_2 = \"AACAG\"\n",
    "\n",
    "### The reverse split.\n",
    "# string_1 = \"CGTAC\"\n",
    "# string_2 = \"AGTAC\"\n",
    "\n",
    "# string_1 = \"AAAAA\"\n",
    "# string_2 = \"AACAA\"\n",
    "\n",
    "string_1 = \"AACACCAACCCAAAACCCAACAC\"\n",
    "string_2 = \"AACACCAACACAAAACCCAACAC\""
   ]
  },
  {
   "cell_type": "code",
   "execution_count": 202,
   "id": "261d1004-7088-4dcf-8a96-ec1c811d2f00",
   "metadata": {},
   "outputs": [],
   "source": [
    "def union_graph(db1,db2):\n",
    "    union = {}\n",
    "    purple = {}\n",
    "    all_keys = set(list(db1.keys()) + list(db2.keys()))\n",
    "    for key in all_keys:\n",
    "        # Makes sure the key is already in union. \n",
    "        try:\n",
    "            blank = union[key]\n",
    "        except:\n",
    "            union[key] = []\n",
    "            purple[key] = set()\n",
    "    \n",
    "        # Checks to see if this key is present in the first De-bruijn, and if not \n",
    "        # adds the information at that key to the union graph\n",
    "        try:\n",
    "            x = db1[key]\n",
    "        except:\n",
    "            for j in db2[key]:\n",
    "                union[key].append((j[0],-1*j[1]))\n",
    "            continue\n",
    "    \n",
    "        # Checks to see if this key is present in the second De-bruijn, and if not \n",
    "        # adds the information at that key to the union graph\n",
    "        try:\n",
    "            y = db2[key]\n",
    "        except:\n",
    "            for i in db1[key]:\n",
    "                union[key].append((i))\n",
    "            continue\n",
    "    \n",
    "        ###!!!### This is definitely a bit slow, but it is the only way to ensure that it works perfectly right now. \n",
    "        for i in db1[key]:\n",
    "            if i[0] not in [z[0] for z in db2[key]]:\n",
    "                union[key].append((i[0],i[1]))\n",
    "            if i in db2[key]:\n",
    "                purple[key].add(i[0])\n",
    "                \n",
    "        for j in db2[key]:\n",
    "            if j[0] not in [z[0] for z in db1[key]]:\n",
    "                union[key].append((j[0],-1*j[1]))\n",
    "            if j in db1[key]:\n",
    "                purple[key].add(j[0])\n",
    "        \n",
    "        for i in db1[key]:\n",
    "            for j in db2[key]:\n",
    "                if i[0] == j[0]:\n",
    "                    if i[1] != j[1]:\n",
    "                        union[key].append((i[0], i[1] - j[1]))\n",
    "                        \n",
    "        if len(purple[key]) == 0:\n",
    "            del purple[key]\n",
    "        if len(union[key]) == 0:\n",
    "            del union[key]\n",
    "    return (union,purple)"
   ]
  },
  {
   "cell_type": "markdown",
   "id": "2f1fe0af-1aad-47f1-b019-03443ad30ec0",
   "metadata": {
    "jp-MarkdownHeadingCollapsed": true
   },
   "source": [
    "## Fixing the incomplete edges problem. "
   ]
  },
  {
   "cell_type": "code",
   "execution_count": 203,
   "id": "603baf80-fdc3-47b5-b08f-a678e1698d70",
   "metadata": {},
   "outputs": [],
   "source": [
    "def reverse_union_graph(union):\n",
    "    reverse_union = {}\n",
    "    for i in union:\n",
    "        for j in union[i]:\n",
    "            try:\n",
    "                reverse_union[j[0]].append((i,j[1]))\n",
    "            except:\n",
    "                reverse_union[j[0]] = [(i,j[1])]\n",
    "    return reverse_union"
   ]
  },
  {
   "cell_type": "code",
   "execution_count": 204,
   "id": "2f5a7d24-bd59-4e32-8d1d-d448c5085d5b",
   "metadata": {},
   "outputs": [],
   "source": [
    "def wallbreak(infront, wall, behind, G, sign):\n",
    "    G[infront].remove((wall, sign))\n",
    "    try:\n",
    "        G[behind].append((wall, sign))\n",
    "    except:\n",
    "        G[behind] = []\n",
    "        G[behind].append((wall, sign))"
   ]
  },
  {
   "cell_type": "code",
   "execution_count": 206,
   "id": "9206f34b-07ad-4926-adae-816fe4262137",
   "metadata": {},
   "outputs": [],
   "source": [
    "def incomplete_edge_adjustment(union, purple):\n",
    "    reverse_union = reverse_union_graph(union)\n",
    "    for i, j in purple.items():\n",
    "        for k in j:\n",
    "            try:\n",
    "                blank = union[k]\n",
    "            except:\n",
    "                continue\n",
    "            if len(union[k]) == 1:\n",
    "                try:\n",
    "                    infront, sign = reverse_union[k][0]\n",
    "                except:\n",
    "                    continue\n",
    "                wallbreak(infront, k, i, union, sign)\n",
    "                            \n",
    "    union= {key:value for key,value in union.items() if value}\n",
    "    return union"
   ]
  },
  {
   "cell_type": "markdown",
   "id": "6cdb17bc-b04c-43f9-89e9-de0328a412bc",
   "metadata": {
    "jp-MarkdownHeadingCollapsed": true
   },
   "source": [
    "## Hyrum's functions:"
   ]
  },
  {
   "cell_type": "code",
   "execution_count": 228,
   "id": "4ada5254-409e-4ae1-bc3d-6501fa0c0bf1",
   "metadata": {},
   "outputs": [],
   "source": [
    "#balanced is defined as having at least 1 red and blue outgoing edges\n",
    "def is_source(node: str, G: Dict):\n",
    "    edges = G[node]\n",
    "    red = False\n",
    "    blue = False\n",
    "    for edge in edges:\n",
    "        if edge[1] < 0:\n",
    "            red = True\n",
    "        elif edge[1] > 0:\n",
    "            blue = True\n",
    "    if red and blue:\n",
    "        return True\n",
    "\n",
    "def get_next_red_node(source, G):\n",
    "    edges = G[source]\n",
    "    candidate_nodes = []\n",
    "    ###!!!### Need to add in loop priority here. \n",
    "    for edge in edges:\n",
    "        if edge[1] > 0:\n",
    "            candidate_nodes.append(edge[0])\n",
    "    if source in candidate_nodes:\n",
    "        next_node = copy.copy(source)\n",
    "    else:\n",
    "        next_node = candidate_nodes[0]\n",
    "    for i in range(0, len(edges)):\n",
    "        edge = edges[i]\n",
    "        node = edge[0]\n",
    "        if edge[0] == next_node and edge[1] > 0:\n",
    "            edge_count = edge[1] - 1\n",
    "            del edges[i]\n",
    "            if len(edges) == 0:\n",
    "                del G[source]\n",
    "            if edge_count != 0:\n",
    "                edges.append((node, edge_count))\n",
    "            break\n",
    "    return next_node\n",
    "\n",
    "def get_next_blue_node(source, G):\n",
    "    edges = G[source]\n",
    "    candidate_nodes = []\n",
    "    for edge in edges:\n",
    "        if edge[1] < 0:\n",
    "            candidate_nodes.append(edge[0])\n",
    "    ####this will have to change once we decide on how to resolve multiple edges\n",
    "    if source in candidate_nodes:\n",
    "        next_node = copy.copy(source)\n",
    "    else:\n",
    "        next_node = candidate_nodes[0]\n",
    "    for i in range(0, len(edges)):\n",
    "        edge = edges[i]\n",
    "        node = edge[0]\n",
    "        if edge[0] == next_node and edge[1] < 0:\n",
    "            edge_count = edge[1] + 1\n",
    "            del edges[i]\n",
    "            if len(edges) == 0:\n",
    "                del G[source]\n",
    "            if edge_count != 0:\n",
    "                edges.append((node, edge_count))\n",
    "            break\n",
    "    return next_node\n",
    "\n",
    "def resolve_bubble(source: str, G:Dict, k:int):\n",
    "    '''\n",
    "    iterate through source edges and assign 'starts' to red and blue branches. \n",
    "    will have to update to account for more than 2 outgoing (edge-picking)\n",
    "    convention for this alg: red->positive, blue->negative\n",
    "    '''\n",
    "    print(source)\n",
    "    print(G)\n",
    "    next_red_node = get_next_red_node(source, G)\n",
    "    #print(G)\n",
    "    next_blue_node = get_next_blue_node(source,G)\n",
    "    #print(G)\n",
    "    edit_count = 0\n",
    "    node_l = k - 1\n",
    "    change_tracker = ['' for i in range(node_l)]\n",
    "\n",
    "    while True:\n",
    "        print('R: ' + next_red_node)\n",
    "        print('B: ' + next_blue_node + '\\n')\n",
    "\n",
    "        for i in range(0, node_l):\n",
    "            #python strings are immutable, have to make them lists\n",
    "            red_str_list = list(next_red_node)\n",
    "            blue_str_list = list(next_blue_node)\n",
    "\n",
    "            #by convention red is the 'correct' string\n",
    "            if change_tracker[i] != '':\n",
    "                blue_str_list[i] = change_tracker[i]\n",
    "\n",
    "            if blue_str_list[i] == red_str_list[i]:\n",
    "                continue\n",
    "            else:\n",
    "                blue_str_list[i] = red_str_list[i]\n",
    "                change_tracker[i] = red_str_list[i]\n",
    "                edit_count += 1\n",
    "        #shift the change tracker before moving to next nodes\n",
    "        del change_tracker[0]\n",
    "        change_tracker.append('')\n",
    "\n",
    "        #stop if either blue or red doesnt have contiuation\n",
    "        if next_blue_node not in G or next_red_node not in G:\n",
    "            #print(change_tracker)\n",
    "            return edit_count\n",
    "\n",
    "        next_red_node = get_next_red_node(next_red_node, G)\n",
    "        next_blue_node = get_next_blue_node(next_blue_node, G)\n",
    "\n",
    "def transform_graph(union: Dict, k:int):\n",
    "    sources = []\n",
    "    for key in union:\n",
    "        if is_source(key, union):\n",
    "            sources.append(key)\n",
    "    print(sources)\n",
    "\n",
    "    total_edits = 0\n",
    "    #loop will continue while there are sources and eges in dict\n",
    "    while len(sources) != 0 and len(union) > 0:\n",
    "        count = 0\n",
    "        current_source = sources[0]\n",
    "        try:\n",
    "            count = resolve_bubble(current_source, union, k)\n",
    "        except:\n",
    "            print(\"what\")\n",
    "        total_edits += count\n",
    "        del sources[0]\n",
    "\n",
    "    return total_edits"
   ]
  },
  {
   "cell_type": "markdown",
   "id": "a58421c8-1463-4aa9-ae52-54b880e2dfa1",
   "metadata": {
    "jp-MarkdownHeadingCollapsed": true
   },
   "source": [
    "## Examples"
   ]
  },
  {
   "cell_type": "code",
   "execution_count": 266,
   "id": "79cd6a9c-38a0-48c6-b40c-d7f9f952a6b5",
   "metadata": {},
   "outputs": [],
   "source": [
    "### Bubble:\n",
    "# string_1 = \"ACGTACAT\"\n",
    "# string_2 = \"ACGTAGAT\"\n",
    "\n",
    "### Looper:\n",
    "# string_1 = \"AAAAA\"\n",
    "# string_2 = \"AACAA\"\n",
    "\n",
    "### Split:\n",
    "# string_1 = \"ACGTACAT\"\n",
    "# string_2 = \"ACGTACAG\"\n",
    "\n",
    "### Two snps right next to each other (big bubble). \n",
    "# string_1 = \"ACGTACAT\"\n",
    "# string_2 = \"ACGGCCAT\"\n",
    "\n",
    "###!!!### Some weird looking stuff with two snps. \n",
    "# string_1 = \"ACGTACAT\"\n",
    "# string_2 = \"ACGGAGAT\"\n",
    "\n",
    "### This has a repeated section in it TACATACA and 1 snp. \n",
    "# string_1 = \"ACGTACATACA\"\n",
    "# string_2 = \"ACGTAGATACA\"\n",
    "\n",
    "###!!!### The palindromic example\n",
    "# string_1 = \"ACGTAGATGCA\"\n",
    "# string_2 = \"ACGCAGATACA\"\n",
    "\n",
    "### Highly disconnected graph. \n",
    "# string_1 = \"AAAAC\"\n",
    "# string_2 = \"AACAC\"\n",
    "\n",
    "# string_1 = \"AAAAG\"\n",
    "# string_2 = \"AACAG\"\n",
    "\n",
    "### The reverse split.\n",
    "# string_1 = \"CGTAC\"\n",
    "# string_2 = \"AGTAC\"\n",
    "\n",
    "# string_1 = \"AAAAA\"\n",
    "# string_2 = \"AACAA\"\n",
    "\n",
    "# string_1 = \"AACACCAACCCAAAACCCAACAC\"\n",
    "# string_2 = \"AACACCAACACAAAACCCAACAC\""
   ]
  },
  {
   "cell_type": "code",
   "execution_count": 267,
   "id": "1ed2a186-49fe-40d8-8b6d-1ef97470ffe6",
   "metadata": {},
   "outputs": [],
   "source": [
    "# Creating the initial De-Bruijn Graph\n",
    "repeat_1 = to_kmers(string_1, 3)\n",
    "repeat_2 = to_kmers(string_2, 3)\n",
    "db1 = de_bruijn_kmers(repeat_1)\n",
    "db2 = de_bruijn_kmers(repeat_2)"
   ]
  },
  {
   "cell_type": "code",
   "execution_count": 268,
   "id": "89c0f1c6-925d-4805-8282-7ccc7aa68922",
   "metadata": {},
   "outputs": [
    {
     "name": "stdout",
     "output_type": "stream",
     "text": [
      "['AC']\n",
      "AC\n",
      "{'CA': [('AC', -1)], 'AC': [('CA', -2), ('CC', 1)], 'CC': [('CA', 1), ('CC', 1)]}\n",
      "R: CC\n",
      "B: CA\n",
      "\n",
      "R: CC\n",
      "B: AC\n",
      "\n"
     ]
    },
    {
     "data": {
      "text/plain": [
       "1"
      ]
     },
     "execution_count": 268,
     "metadata": {},
     "output_type": "execute_result"
    }
   ],
   "source": [
    "union, purple = union_graph(db1, db2)\n",
    "union = incomplete_edge_adjustment(union, purple)\n",
    "transform_graph(union, 3)"
   ]
  },
  {
   "cell_type": "markdown",
   "id": "4908b3ab-16a5-43a5-aef4-0477027a6c18",
   "metadata": {
    "jp-MarkdownHeadingCollapsed": true
   },
   "source": [
    "## Visualization"
   ]
  },
  {
   "cell_type": "code",
   "execution_count": 167,
   "id": "acdaeb8e-bca3-4451-997e-686973d48267",
   "metadata": {},
   "outputs": [],
   "source": [
    "G = nx.MultiDiGraph()\n",
    "edge_list = []\n",
    "for i in union:\n",
    "    for j in union[i]:\n",
    "        edge_list.append((i, j[0], {'label':j[1]}))\n",
    "\n",
    "G.add_edges_from(edge_list)\n",
    "D = nx.drawing.nx_agraph.to_agraph(G)\n",
    "D.node_attr.update(color='blue', style='filled', fillcolor='white')\n",
    "D.edge_attr.update(color='blue', arrowsize=1)\n",
    "pos = D.layout('dot')\n",
    "D.draw(\"union_graph.jpg\")"
   ]
  },
  {
   "cell_type": "code",
   "execution_count": 168,
   "id": "7726dbe5-222c-468f-957a-b73b79958a02",
   "metadata": {},
   "outputs": [
    {
     "data": {
      "image/jpeg": "[encoded data removed]",
      "text/plain": [
       "<IPython.core.display.Image object>"
      ]
     },
     "execution_count": 168,
     "metadata": {},
     "output_type": "execute_result"
    }
   ],
   "source": [
    "Image(filename='union_graph.jpg') "
   ]
  },
  {
   "cell_type": "markdown",
   "id": "ab036c19-4bef-47fc-a443-2b1cd925bc51",
   "metadata": {
    "jp-MarkdownHeadingCollapsed": true
   },
   "source": [
    "## Visualization 2"
   ]
  },
  {
   "cell_type": "code",
   "execution_count": 21,
   "id": "06690148-3929-4929-ab40-96ee687763a9",
   "metadata": {},
   "outputs": [],
   "source": [
    "G = nx.MultiDiGraph()\n",
    "edge_list = []\n",
    "for i in db1:\n",
    "    for j in db1[i]:\n",
    "        edge_list.append((i, j[0], {'label':j[1]}))\n",
    "\n",
    "G.add_edges_from(edge_list)\n",
    "D = nx.drawing.nx_agraph.to_agraph(G)\n",
    "D.node_attr.update(color='blue', style='filled', fillcolor='white')\n",
    "D.edge_attr.update(color='blue', arrowsize=1)\n",
    "pos = D.layout('dot')\n",
    "D.draw(\"db1_graph.jpg\")\n",
    "\n",
    "G = nx.MultiDiGraph()\n",
    "edge_list = []\n",
    "for i in db2:\n",
    "    for j in db2[i]:\n",
    "        edge_list.append((i, j[0], {'label':j[1]}))\n",
    "\n",
    "G.add_edges_from(edge_list)\n",
    "D = nx.drawing.nx_agraph.to_agraph(G)\n",
    "D.node_attr.update(color='blue', style='filled', fillcolor='white')\n",
    "D.edge_attr.update(color='blue', arrowsize=1)\n",
    "pos = D.layout('dot')\n",
    "D.draw(\"db2_graph.jpg\")"
   ]
  },
  {
   "cell_type": "code",
   "execution_count": 22,
   "id": "86c81508-d2d0-4290-a64b-2d2f76728f8f",
   "metadata": {},
   "outputs": [],
   "source": [
    "full = {}\n",
    "for i in db1:\n",
    "    try:\n",
    "        y = full[i]\n",
    "    except:\n",
    "        full[i] = []\n",
    "    try:\n",
    "        x = db2[i]\n",
    "        for j in db1[i]:\n",
    "            full[i].append((j))\n",
    "    except:\n",
    "        full[i] = []\n",
    "        for j in db1[i]:\n",
    "            full[i].append((j))\n",
    "            \n",
    "for i in db2:\n",
    "    try:\n",
    "        y = full[i]\n",
    "    except:\n",
    "        full[i] = []\n",
    "    try:\n",
    "        x = db1[i]\n",
    "        for j in db2[i]:\n",
    "                full[i].append((j[0],-1*j[1]))\n",
    "    except:\n",
    "        union[i] = []\n",
    "        for j in db2[i]:\n",
    "            full[i].append((j[0],-1*j[1]))"
   ]
  },
  {
   "cell_type": "code",
   "execution_count": 23,
   "id": "090bcdd2-d82f-4ada-8ce1-e1d38a1e1e39",
   "metadata": {},
   "outputs": [],
   "source": [
    "G = nx.MultiDiGraph()\n",
    "edge_list = []\n",
    "for i in full:\n",
    "    for j in full[i]:\n",
    "        edge_list.append((i, j[0], {'label':j[1]}))\n",
    "\n",
    "G.add_edges_from(edge_list)\n",
    "D = nx.drawing.nx_agraph.to_agraph(G)\n",
    "D.node_attr.update(color='blue', style='filled', fillcolor='white')\n",
    "D.edge_attr.update(color='blue', arrowsize=1)\n",
    "pos = D.layout('dot')\n",
    "D.draw(\"full_graph_new.jpg\")"
   ]
  },
  {
   "cell_type": "code",
   "execution_count": 24,
   "id": "ffd136eb-5a5a-4dfb-869e-7300cbfe48c4",
   "metadata": {},
   "outputs": [],
   "source": [
    "x = set()"
   ]
  },
  {
   "cell_type": "code",
   "execution_count": null,
   "id": "a3e1b3be-2d8b-43bf-bf34-4a0b69ca5a99",
   "metadata": {},
   "outputs": [],
   "source": []
  }
 ],
 "metadata": {
  "kernelspec": {
   "display_name": "Python 3 (ipykernel)",
   "language": "python",
   "name": "python3"
  },
  "language_info": {
   "codemirror_mode": {
    "name": "ipython",
    "version": 3
   },
   "file_extension": ".py",
   "mimetype": "text/x-python",
   "name": "python",
   "nbconvert_exporter": "python",
   "pygments_lexer": "ipython3",
   "version": "3.12.2"
  }
 },
 "nbformat": 4,
 "nbformat_minor": 5
}
